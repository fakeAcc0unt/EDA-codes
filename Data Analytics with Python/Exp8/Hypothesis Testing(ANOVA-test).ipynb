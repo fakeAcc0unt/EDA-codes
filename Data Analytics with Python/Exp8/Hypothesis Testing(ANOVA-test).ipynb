{
 "cells": [
  {
   "cell_type": "markdown",
   "id": "a58ccc9d-f822-4165-954e-defe24778c6b",
   "metadata": {},
   "source": [
    "# Hypothesis Testing"
   ]
  },
  {
   "cell_type": "code",
   "execution_count": 7,
   "id": "76bdb5c4-3f17-4d71-8dba-c43f5fe81484",
   "metadata": {},
   "outputs": [],
   "source": [
    "import numpy as np\n",
    "from scipy import stats\n",
    "from statsmodels.stats.weightstats import ztest as ztest"
   ]
  },
  {
   "cell_type": "markdown",
   "id": "14d0737f-0708-4ff0-858a-f3fd0e243b49",
   "metadata": {},
   "source": [
    "## Making two-sample Data"
   ]
  },
  {
   "cell_type": "code",
   "execution_count": 8,
   "id": "8414afda-4269-4c3f-8185-4c92ef976334",
   "metadata": {},
   "outputs": [],
   "source": [
    "before_treatment = np.array([120, 122, 118, 130, 125, 128, 115, 121, 123, 119])\n",
    "after_treatment = np.array([115, 120, 112, 128, 122, 125, 110, 117, 119, 114])"
   ]
  },
  {
   "cell_type": "markdown",
   "id": "9de16829-3492-4de6-ab20-37d624e3d543",
   "metadata": {},
   "source": [
    "## Null and Alternate Hypotheses"
   ]
  },
  {
   "cell_type": "code",
   "execution_count": 9,
   "id": "b9036ff4-171a-4311-b02c-ce1d11e93c69",
   "metadata": {},
   "outputs": [],
   "source": [
    "null_hypothesis = \"The new drug has no effect on blood pressure.\"\n",
    "alternate_hypothesis = \"The new drug has an effect on blood pressure.\""
   ]
  },
  {
   "cell_type": "markdown",
   "id": "f8ee0252-283e-4c0e-9c0c-28d430b40aba",
   "metadata": {},
   "source": [
    "## Significance Level\n",
    "We'll set the significance level (α) to 0.05, indicating a 5% chance of rejecting the null hypothesis when it's actually true."
   ]
  },
  {
   "cell_type": "code",
   "execution_count": 10,
   "id": "ceb504cb-ffb7-4988-9ac9-f9903bec9986",
   "metadata": {},
   "outputs": [],
   "source": [
    "alpha = 0.05"
   ]
  },
  {
   "cell_type": "markdown",
   "id": "2a8a0827-a00e-41b7-8fe0-5c50d677334c",
   "metadata": {},
   "source": [
    "## Statistical Tests\n",
    "We'll perform both a paired T-test and a Z-test to analyze the data."
   ]
  },
  {
   "cell_type": "markdown",
   "id": "cbffca66-91aa-4dbf-ad2d-6cf07f798a00",
   "metadata": {},
   "source": [
    "### ANOVA-Test"
   ]
  },
  {
   "cell_type": "code",
   "execution_count": 11,
   "id": "0aad20ed-36ec-49d4-9008-11fd24b080cf",
   "metadata": {},
   "outputs": [],
   "source": [
    "f_statistic, p_value_anova = stats.f_oneway(after_treatment, before_treatment)\n",
    "\n",
    "decision_anova = \"Reject\" if p_value_anova <= alpha else \"Fail to reject\"\n",
    "\n",
    "if decision_anova == \"Reject\":\n",
    "    conclusion_anova = \"There is statistically significant evidence that the average blood pressure before and after treatment with the new drug is different.\"\n",
    "else:\n",
    "    conclusion_anova = \"There is insufficient evidence to claim a significant difference in average blood pressure before and after treatment with the new drug.\""
   ]
  },
  {
   "cell_type": "markdown",
   "id": "bed8ba94-54b7-4adb-b198-8da6aab19840",
   "metadata": {},
   "source": [
    "## Results"
   ]
  },
  {
   "cell_type": "code",
   "execution_count": 12,
   "id": "ebd22731-213a-452e-85c3-31ae4e19f019",
   "metadata": {},
   "outputs": [
    {
     "name": "stdout",
     "output_type": "stream",
     "text": [
      "F-statistic (ANOVA): 2.825386996904025\n",
      "P-value (ANOVA): 0.1100543157781907\n",
      "Decision (ANOVA): Fail to reject\n",
      "Conclusion (ANOVA): There is insufficient evidence to claim a significant difference in average blood pressure before and after treatment with the new drug.\n"
     ]
    }
   ],
   "source": [
    "print(\"F-statistic (ANOVA):\", f_statistic)\n",
    "print(\"P-value (ANOVA):\", p_value_anova)\n",
    "print(\"Decision (ANOVA):\", decision_anova)\n",
    "print(\"Conclusion (ANOVA):\", conclusion_anova)"
   ]
  }
 ],
 "metadata": {
  "kernelspec": {
   "display_name": "Python 3 (ipykernel)",
   "language": "python",
   "name": "python3"
  },
  "language_info": {
   "codemirror_mode": {
    "name": "ipython",
    "version": 3
   },
   "file_extension": ".py",
   "mimetype": "text/x-python",
   "name": "python",
   "nbconvert_exporter": "python",
   "pygments_lexer": "ipython3",
   "version": "3.10.11"
  }
 },
 "nbformat": 4,
 "nbformat_minor": 5
}
