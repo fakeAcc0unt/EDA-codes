{
 "cells": [
  {
   "cell_type": "markdown",
   "id": "a58ccc9d-f822-4165-954e-defe24778c6b",
   "metadata": {},
   "source": [
    "# Hypothesis Testing"
   ]
  },
  {
   "cell_type": "code",
   "execution_count": 1,
   "id": "76bdb5c4-3f17-4d71-8dba-c43f5fe81484",
   "metadata": {},
   "outputs": [],
   "source": [
    "import numpy as np\n",
    "from scipy import stats\n",
    "from statsmodels.stats.weightstats import ztest as ztest"
   ]
  },
  {
   "cell_type": "markdown",
   "id": "14d0737f-0708-4ff0-858a-f3fd0e243b49",
   "metadata": {},
   "source": [
    "## Making two-sample Data"
   ]
  },
  {
   "cell_type": "code",
   "execution_count": 2,
   "id": "8414afda-4269-4c3f-8185-4c92ef976334",
   "metadata": {},
   "outputs": [],
   "source": [
    "before_treatment = np.array([120, 122, 118, 130, 125, 128, 115, 121, 123, 119])\n",
    "after_treatment = np.array([115, 120, 112, 128, 122, 125, 110, 117, 119, 114])"
   ]
  },
  {
   "cell_type": "markdown",
   "id": "9de16829-3492-4de6-ab20-37d624e3d543",
   "metadata": {},
   "source": [
    "## Null and Alternate Hypotheses"
   ]
  },
  {
   "cell_type": "code",
   "execution_count": 3,
   "id": "b9036ff4-171a-4311-b02c-ce1d11e93c69",
   "metadata": {},
   "outputs": [],
   "source": [
    "null_hypothesis = \"The new drug has no effect on blood pressure.\"\n",
    "alternate_hypothesis = \"The new drug has an effect on blood pressure.\""
   ]
  },
  {
   "cell_type": "markdown",
   "id": "f8ee0252-283e-4c0e-9c0c-28d430b40aba",
   "metadata": {},
   "source": [
    "## Significance Level\n",
    "We'll set the significance level (α) to 0.05, indicating a 5% chance of rejecting the null hypothesis when it's actually true."
   ]
  },
  {
   "cell_type": "code",
   "execution_count": 4,
   "id": "ceb504cb-ffb7-4988-9ac9-f9903bec9986",
   "metadata": {},
   "outputs": [],
   "source": [
    "alpha = 0.05"
   ]
  },
  {
   "cell_type": "markdown",
   "id": "2a8a0827-a00e-41b7-8fe0-5c50d677334c",
   "metadata": {},
   "source": [
    "## Statistical Tests\n",
    "We'll perform both a paired T-test and a Z-test to analyze the data."
   ]
  },
  {
   "cell_type": "markdown",
   "id": "5d3e8e42-95fd-47e9-a803-f61cb33fddc7",
   "metadata": {},
   "source": [
    "### T-Test"
   ]
  },
  {
   "cell_type": "code",
   "execution_count": 5,
   "id": "0ba7e5d9-372e-4eb1-b76f-f197251cdad7",
   "metadata": {},
   "outputs": [],
   "source": [
    "t_statistic, p_value_ttest = stats.ttest_rel(after_treatment, before_treatment)\n",
    "\n",
    "decision_ttest = \"Reject\" if p_value_ttest <= alpha else \"Fail to reject\"\n",
    "\n",
    "if decision_ttest == \"Reject\":\n",
    "    conclusion_ttest = \"There is statistically significant evidence that the average blood pressure before and after treatment with the new drug is different.\"\n",
    "else:\n",
    "    conclusion_ttest = \"There is insufficient evidence to claim a significant difference in average blood pressure before and after treatment with the new drug.\""
   ]
  },
  {
   "cell_type": "markdown",
   "id": "cbffca66-91aa-4dbf-ad2d-6cf07f798a00",
   "metadata": {},
   "source": [
    "### Z-Test"
   ]
  },
  {
   "cell_type": "code",
   "execution_count": 6,
   "id": "0aad20ed-36ec-49d4-9008-11fd24b080cf",
   "metadata": {},
   "outputs": [],
   "source": [
    "z_statistic, p_value_ztest = ztest(after_treatment, before_treatment, alternative='two-sided')\n",
    "\n",
    "decision_ztest = \"Reject\" if p_value_ztest <= alpha else \"Fail to reject\"\n",
    "\n",
    "if decision_ztest == \"Reject\":\n",
    "    conclusion_ztest = \"There is statistically significant evidence that the average blood pressure before and after treatment with the new drug is different.\"\n",
    "else:\n",
    "    conclusion_ztest = \"There is insufficient evidence to claim a significant difference in average blood pressure before and after treatment with the new drug.\""
   ]
  },
  {
   "cell_type": "markdown",
   "id": "bed8ba94-54b7-4adb-b198-8da6aab19840",
   "metadata": {},
   "source": [
    "## Results"
   ]
  },
  {
   "cell_type": "code",
   "execution_count": 7,
   "id": "ebd22731-213a-452e-85c3-31ae4e19f019",
   "metadata": {},
   "outputs": [
    {
     "name": "stdout",
     "output_type": "stream",
     "text": [
      "T-statistic (paired T-test): -9.0\n",
      "P-value (paired T-test): 8.538051223166285e-06\n",
      "Decision (paired T-test): Reject\n",
      "Conclusion(paired T-test): There is statistically significant evidence that the average blood pressure before and after treatment with the new drug is different.\n",
      "\n",
      "Z-statistic (Z-test): -1.6808887520903968\n",
      "P-value (Z-test): 0.09278452513896034\n",
      "Decision (Z-test): Fail to reject\n",
      "Conclusion(Z-test): There is insufficient evidence to claim a significant difference in average blood pressure before and after treatment with the new drug.\n"
     ]
    }
   ],
   "source": [
    "print(\"T-statistic (paired T-test):\", t_statistic)\n",
    "print(\"P-value (paired T-test):\", p_value_ttest)\n",
    "print(\"Decision (paired T-test):\", decision_ttest)\n",
    "print(\"Conclusion(paired T-test):\", conclusion_ttest)\n",
    "\n",
    "print(\"\\nZ-statistic (Z-test):\", z_statistic)\n",
    "print(\"P-value (Z-test):\", p_value_ztest)\n",
    "print(\"Decision (Z-test):\", decision_ztest)\n",
    "print(\"Conclusion(Z-test):\", conclusion_ztest)"
   ]
  }
 ],
 "metadata": {
  "kernelspec": {
   "display_name": "Python 3 (ipykernel)",
   "language": "python",
   "name": "python3"
  },
  "language_info": {
   "codemirror_mode": {
    "name": "ipython",
    "version": 3
   },
   "file_extension": ".py",
   "mimetype": "text/x-python",
   "name": "python",
   "nbconvert_exporter": "python",
   "pygments_lexer": "ipython3",
   "version": "3.10.11"
  }
 },
 "nbformat": 4,
 "nbformat_minor": 5
}
