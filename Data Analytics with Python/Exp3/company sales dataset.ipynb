{
 "cells": [
  {
   "cell_type": "markdown",
   "id": "caa353a7-00dd-4a18-b551-b2b6dbcbab0f",
   "metadata": {},
   "source": [
    "## _Company Sales Dataset_"
   ]
  },
  {
   "cell_type": "markdown",
   "id": "20764b1d-743d-47de-87ff-305e7c5f47e6",
   "metadata": {},
   "source": [
    " __Import Necessary Libraries__"
   ]
  },
  {
   "cell_type": "code",
   "execution_count": 23,
   "id": "100a2fa3-942b-4c52-9982-50db65ba9977",
   "metadata": {},
   "outputs": [],
   "source": [
    "import pandas as pd\n",
    "import numpy as np\n",
    "import matplotlib.pyplot as plt\n",
    "import seaborn as sb\n",
    "import warnings\n",
    "warnings.filterwarnings(\"ignore\")"
   ]
  },
  {
   "cell_type": "code",
   "execution_count": 2,
   "id": "7f6d6cd1-a1a1-4088-8a4c-43a66bf14df2",
   "metadata": {},
   "outputs": [
    {
     "data": {
      "text/html": [
       "<div>\n",
       "<style scoped>\n",
       "    .dataframe tbody tr th:only-of-type {\n",
       "        vertical-align: middle;\n",
       "    }\n",
       "\n",
       "    .dataframe tbody tr th {\n",
       "        vertical-align: top;\n",
       "    }\n",
       "\n",
       "    .dataframe thead th {\n",
       "        text-align: right;\n",
       "    }\n",
       "</style>\n",
       "<table border=\"1\" class=\"dataframe\">\n",
       "  <thead>\n",
       "    <tr style=\"text-align: right;\">\n",
       "      <th></th>\n",
       "      <th>Year</th>\n",
       "      <th>Month</th>\n",
       "      <th>Sales</th>\n",
       "      <th>Expenses</th>\n",
       "      <th>Profit</th>\n",
       "      <th>Region</th>\n",
       "      <th>Product_Type</th>\n",
       "    </tr>\n",
       "  </thead>\n",
       "  <tbody>\n",
       "    <tr>\n",
       "      <th>0</th>\n",
       "      <td>2018</td>\n",
       "      <td>January</td>\n",
       "      <td>10000.0</td>\n",
       "      <td>6000.0</td>\n",
       "      <td>4000.0</td>\n",
       "      <td>East</td>\n",
       "      <td>Electronics</td>\n",
       "    </tr>\n",
       "    <tr>\n",
       "      <th>1</th>\n",
       "      <td>2018</td>\n",
       "      <td>February</td>\n",
       "      <td>15000.0</td>\n",
       "      <td>7000.0</td>\n",
       "      <td>8000.0</td>\n",
       "      <td>West</td>\n",
       "      <td>Apparel</td>\n",
       "    </tr>\n",
       "    <tr>\n",
       "      <th>2</th>\n",
       "      <td>2018</td>\n",
       "      <td>March</td>\n",
       "      <td>12000.0</td>\n",
       "      <td>5000.0</td>\n",
       "      <td>7000.0</td>\n",
       "      <td>East</td>\n",
       "      <td>Electronics</td>\n",
       "    </tr>\n",
       "    <tr>\n",
       "      <th>3</th>\n",
       "      <td>2018</td>\n",
       "      <td>April</td>\n",
       "      <td>18000.0</td>\n",
       "      <td>8000.0</td>\n",
       "      <td>10000.0</td>\n",
       "      <td>South</td>\n",
       "      <td>Electronics</td>\n",
       "    </tr>\n",
       "    <tr>\n",
       "      <th>4</th>\n",
       "      <td>2018</td>\n",
       "      <td>May</td>\n",
       "      <td>9000.0</td>\n",
       "      <td>4000.0</td>\n",
       "      <td>5000.0</td>\n",
       "      <td>West</td>\n",
       "      <td>Apparel</td>\n",
       "    </tr>\n",
       "    <tr>\n",
       "      <th>...</th>\n",
       "      <td>...</td>\n",
       "      <td>...</td>\n",
       "      <td>...</td>\n",
       "      <td>...</td>\n",
       "      <td>...</td>\n",
       "      <td>...</td>\n",
       "      <td>...</td>\n",
       "    </tr>\n",
       "    <tr>\n",
       "      <th>103</th>\n",
       "      <td>2026</td>\n",
       "      <td>August</td>\n",
       "      <td>12000.0</td>\n",
       "      <td>6000.0</td>\n",
       "      <td>6000.0</td>\n",
       "      <td>West</td>\n",
       "      <td>Electronics</td>\n",
       "    </tr>\n",
       "    <tr>\n",
       "      <th>104</th>\n",
       "      <td>2026</td>\n",
       "      <td>September</td>\n",
       "      <td>15000.0</td>\n",
       "      <td>7000.0</td>\n",
       "      <td>8000.0</td>\n",
       "      <td>East</td>\n",
       "      <td>Electronics</td>\n",
       "    </tr>\n",
       "    <tr>\n",
       "      <th>105</th>\n",
       "      <td>2026</td>\n",
       "      <td>October</td>\n",
       "      <td>18000.0</td>\n",
       "      <td>8000.0</td>\n",
       "      <td>10000.0</td>\n",
       "      <td>South</td>\n",
       "      <td>Electronics</td>\n",
       "    </tr>\n",
       "    <tr>\n",
       "      <th>106</th>\n",
       "      <td>2026</td>\n",
       "      <td>November</td>\n",
       "      <td>9000.0</td>\n",
       "      <td>4000.0</td>\n",
       "      <td>5000.0</td>\n",
       "      <td>West</td>\n",
       "      <td>Apparel</td>\n",
       "    </tr>\n",
       "    <tr>\n",
       "      <th>107</th>\n",
       "      <td>2026</td>\n",
       "      <td>December</td>\n",
       "      <td>20000.0</td>\n",
       "      <td>10000.0</td>\n",
       "      <td>10000.0</td>\n",
       "      <td>East</td>\n",
       "      <td>Electronics</td>\n",
       "    </tr>\n",
       "  </tbody>\n",
       "</table>\n",
       "<p>108 rows × 7 columns</p>\n",
       "</div>"
      ],
      "text/plain": [
       "     Year      Month    Sales  Expenses   Profit Region Product_Type\n",
       "0    2018    January  10000.0    6000.0   4000.0   East  Electronics\n",
       "1    2018   February  15000.0    7000.0   8000.0   West      Apparel\n",
       "2    2018      March  12000.0    5000.0   7000.0   East  Electronics\n",
       "3    2018      April  18000.0    8000.0  10000.0  South  Electronics\n",
       "4    2018        May   9000.0    4000.0   5000.0   West      Apparel\n",
       "..    ...        ...      ...       ...      ...    ...          ...\n",
       "103  2026     August  12000.0    6000.0   6000.0   West  Electronics\n",
       "104  2026  September  15000.0    7000.0   8000.0   East  Electronics\n",
       "105  2026    October  18000.0    8000.0  10000.0  South  Electronics\n",
       "106  2026   November   9000.0    4000.0   5000.0   West      Apparel\n",
       "107  2026   December  20000.0   10000.0  10000.0   East  Electronics\n",
       "\n",
       "[108 rows x 7 columns]"
      ]
     },
     "execution_count": 2,
     "metadata": {},
     "output_type": "execute_result"
    }
   ],
   "source": [
    "data = pd.read_csv('company_data.csv')\n",
    "data"
   ]
  },
  {
   "cell_type": "markdown",
   "id": "b4501be5-de54-4964-a970-5b1a61867d5e",
   "metadata": {},
   "source": [
    "__Data Cleaning__"
   ]
  },
  {
   "cell_type": "code",
   "execution_count": 3,
   "id": "682fa33d-213f-430d-9ab0-6cc651fca7b9",
   "metadata": {},
   "outputs": [
    {
     "name": "stdout",
     "output_type": "stream",
     "text": [
      "Missing Values:\n",
      "Year            0\n",
      "Month           0\n",
      "Sales           1\n",
      "Expenses        1\n",
      "Profit          1\n",
      "Region          0\n",
      "Product_Type    0\n",
      "dtype: int64\n"
     ]
    }
   ],
   "source": [
    "# Check for missing values\n",
    "print(\"Missing Values:\")\n",
    "print(data.isnull().sum())"
   ]
  },
  {
   "cell_type": "code",
   "execution_count": 12,
   "id": "746a52bf-7225-4e62-93d3-84f5b3ff86fc",
   "metadata": {},
   "outputs": [
    {
     "name": "stdout",
     "output_type": "stream",
     "text": [
      "Year            0\n",
      "Month           0\n",
      "Sales           0\n",
      "Expenses        0\n",
      "Profit          0\n",
      "Region          0\n",
      "Product_Type    0\n",
      "dtype: int64\n"
     ]
    }
   ],
   "source": [
    "# Fill missing values with mean for 'Expenses' and 'Profit', and fill 'Year' with preceding number\n",
    "data['Expenses'].fillna(data['Expenses'].mean(), inplace=True)\n",
    "data['Profit'].fillna(data['Profit'].mean(), inplace=True)\n",
    "data['Sales'].fillna(data['Sales'].mean(), inplace=True)\n",
    "data['Year'].fillna(method='ffill', inplace=True)\n",
    "print(data.isnull().sum())"
   ]
  },
  {
   "cell_type": "markdown",
   "id": "1f77bb5b-af36-4860-9825-cfa91a34a0ca",
   "metadata": {},
   "source": [
    "__Descriptive Statistics__"
   ]
  },
  {
   "cell_type": "code",
   "execution_count": 5,
   "id": "6f978496-c3de-45b0-89ec-e733eeb1f809",
   "metadata": {},
   "outputs": [
    {
     "name": "stdout",
     "output_type": "stream",
     "text": [
      "\n",
      "Summary Statistics:\n",
      "              Year         Sales      Expenses        Profit\n",
      "count   108.000000    108.000000    108.000000    108.000000\n",
      "mean   2022.000000  17373.831776   8336.448598   9009.345794\n",
      "std       2.594026   5057.655185   2550.220534   2677.337662\n",
      "min    2018.000000   9000.000000   4000.000000   4000.000000\n",
      "25%    2020.000000  12000.000000   6000.000000   6750.000000\n",
      "50%    2022.000000  18000.000000   8000.000000   9504.672897\n",
      "75%    2024.000000  20500.000000  10000.000000  10000.000000\n",
      "max    2026.000000  30000.000000  15000.000000  15000.000000\n"
     ]
    }
   ],
   "source": [
    "# Summary statistics\n",
    "print(\"\\nSummary Statistics:\")\n",
    "print(data.describe())"
   ]
  },
  {
   "cell_type": "code",
   "execution_count": 24,
   "id": "be89cb22-ae0c-45da-983c-55b9f79147b6",
   "metadata": {},
   "outputs": [
    {
     "name": "stdout",
     "output_type": "stream",
     "text": [
      "              Year     Sales  Expenses    Profit\n",
      "Year      1.000000 -0.023241 -0.034843 -0.014790\n",
      "Sales    -0.023241  1.000000  0.957973  0.963221\n",
      "Expenses -0.034843  0.957973  1.000000  0.855474\n",
      "Profit   -0.014790  0.963221  0.855474  1.000000\n"
     ]
    }
   ],
   "source": [
    "num_data=data.select_dtypes(include=[np.number])\n",
    "print(num_data.corr())"
   ]
  },
  {
   "cell_type": "markdown",
   "id": "d0f86f93-8898-49f2-a3e8-fb81a2fdccf7",
   "metadata": {},
   "source": [
    "__Data Visualization__"
   ]
  },
  {
   "cell_type": "code",
   "execution_count": 19,
   "id": "bd76d962-5f09-4042-95b8-29f9af203ec3",
   "metadata": {},
   "outputs": [
    {
     "data": {
      "image/png": "[encoded data removed]",
      "text/plain": [
       "<Figure size 600x400 with 1 Axes>"
      ]
     },
     "metadata": {},
     "output_type": "display_data"
    }
   ],
   "source": [
    "# Histogram of sales\n",
    "plt.figure(figsize=(6, 4))\n",
    "plt.hist(data['Sales'], bins=20, color='skyblue', edgecolor='black')\n",
    "plt.title('Distribution of Sales')\n",
    "plt.xlabel('Sales')\n",
    "plt.ylabel('Frequency')\n",
    "plt.show()"
   ]
  },
  {
   "cell_type": "code",
   "execution_count": 7,
   "id": "1de5f48a-2e7a-4a59-b06b-17fd39ca681d",
   "metadata": {},
   "outputs": [
    {
     "data": {
      "image/png": "[encoded data removed]",
      "text/plain": [
       "<Figure size 500x300 with 1 Axes>"
      ]
     },
     "metadata": {},
     "output_type": "display_data"
    }
   ],
   "source": [
    "# Scatter plot of expenses vs. profit\n",
    "plt.figure(figsize=(5, 3))\n",
    "plt.scatter(data['Expenses'], data['Profit'], color='green', alpha=0.5)\n",
    "plt.title('Expenses vs. Profit')\n",
    "plt.xlabel('Expenses')\n",
    "plt.ylabel('Profit')\n",
    "plt.show()"
   ]
  },
  {
   "cell_type": "code",
   "execution_count": 20,
   "id": "4b483633-72f1-496c-9841-19f172ca1b99",
   "metadata": {},
   "outputs": [
    {
     "data": {
      "image/png": "[encoded data removed]",
      "text/plain": [
       "<Figure size 600x400 with 1 Axes>"
      ]
     },
     "metadata": {},
     "output_type": "display_data"
    }
   ],
   "source": [
    "# Boxplot of profit\n",
    "plt.figure(figsize=(6, 4))\n",
    "plt.boxplot(data['Profit'])\n",
    "plt.title('Profit Distribution')\n",
    "plt.ylabel('Profit')\n",
    "plt.show()"
   ]
  },
  {
   "cell_type": "code",
   "execution_count": null,
   "id": "9ff27273-5330-408c-8909-cc1487de4643",
   "metadata": {},
   "outputs": [],
   "source": []
  }
 ],
 "metadata": {
  "kernelspec": {
   "display_name": "Python 3 (ipykernel)",
   "language": "python",
   "name": "python3"
  },
  "language_info": {
   "codemirror_mode": {
    "name": "ipython",
    "version": 3
   },
   "file_extension": ".py",
   "mimetype": "text/x-python",
   "name": "python",
   "nbconvert_exporter": "python",
   "pygments_lexer": "ipython3",
   "version": "3.11.9"
  }
 },
 "nbformat": 4,
 "nbformat_minor": 5
}
